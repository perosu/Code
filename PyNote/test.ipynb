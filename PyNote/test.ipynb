{
 "cells": [
  {
   "cell_type": "code",
   "execution_count": null,
   "metadata": {
    "ExecuteTime": {
     "start_time": "2019-05-11T05:29:06.016Z"
    },
    "code_folding": []
   },
   "outputs": [],
   "source": [
    "in1 = eval(input(\"This script is used to black hole number.\\nPlease input a number:\"))\n",
    "print(\"\\n\")\n",
    "past = 1000\n",
    "tof = 1\n",
    "while tof:\n",
    "    num = list([in1//100,in1%100//10,in1%10])\n",
    "    num.sort()\n",
    "    buffer = (num[2]*100 + num[1]*10 + num[0]) - (num[0]*100 + num[1]*10 + num[2])\n",
    "    if past == buffer:\n",
    "        print(\"\\nThe black hole number is %d.\\nThis number use %d times.\"%(buffer,tof-1))\n",
    "        tof = 0\n",
    "    else:\n",
    "        past = buffer\n",
    "        in1 = buffer\n",
    "        print(\"Time %d: \"%tof+str(buffer))\n",
    "        tof = tof +1"
   ]
  },
  {
   "cell_type": "code",
   "execution_count": null,
   "metadata": {
    "ExecuteTime": {
     "start_time": "2019-05-11T05:29:06.024Z"
    }
   },
   "outputs": [],
   "source": [
    "# neural network class definition\n",
    "class neuralNetwork:\n",
    "    \n",
    "    # initialise the neural network\n",
    "    def __init__(self,inputnodes,hiddennodes,outputnodes,learningrate):\n",
    "        #set number of nodes in input,hidden and output layer\n",
    "        self.inodes = inputnodes\n",
    "        self.hnodes = hiddennodes\n",
    "        self.onodes = outputnodes\n",
    "        \n",
    "        # link weight matrices,wih,who\n",
    "        #weights inside the  arrays are w_i_j,where link is from node i to node j in the next layer\n",
    "        # w11 w21\n",
    "        # w21 w22\n",
    "        self.wih = (numpy.random.rand(self.hnodes,self.inodes) - 0.5)\n",
    "        self.who = (numpy.random.rand(self.onodes,self.hnodes) - 0.5)\n",
    "        \n",
    "        #learning rate\n",
    "        self.lr = learningrate\n",
    "        pass\n",
    "    \n",
    "    # train the neural network\n",
    "    def train():\n",
    "        pass\n",
    "    \n",
    "    #query the neural network\n",
    "    def query():\n",
    "        pass\n",
    "    pass\n",
    "input_nodes = 3\n",
    "hidden_nodes = 3\n",
    "output_nodes = 3\n",
    "learning_rate = 0.5\n",
    "n = neuralNetwork(input_nodes,hidden_nodes,output_nodes,learning_rate)"
   ]
  },
  {
   "cell_type": "code",
   "execution_count": null,
   "metadata": {
    "ExecuteTime": {
     "start_time": "2019-05-11T05:29:06.032Z"
    }
   },
   "outputs": [],
   "source": [
    "import numpy\n",
    "import matplotlib.pyplot\n",
    "a = numpy.zeros([3,2])\n",
    "a[0,0] = 1\n",
    "a[0,1] = 2\n",
    "a[1,0] = 9\n",
    "a[2,1] = 12\n",
    "%matplotlib inline\n",
    "matplotlib.pyplot.imshow(a,interpolation=\"nearest\")"
   ]
  },
  {
   "cell_type": "code",
   "execution_count": null,
   "metadata": {
    "ExecuteTime": {
     "start_time": "2019-05-11T05:29:06.035Z"
    }
   },
   "outputs": [],
   "source": [
    "import turtle\n",
    "import random\n",
    "step = eval(input(\"This script is used to random walk.\\nPlease input step number:\"))\n",
    "while step:\n",
    "    num = random.randint(0,15)\n",
    "    angle = num*22.5\n",
    "    if num == 0:\n",
    "        turtle.seth(angle)\n",
    "        turtle.fd(5)\n",
    "    elif num ==1:\n",
    "        turtle.seth(angle)\n",
    "        turtle.fd(5)\n",
    "    elif num ==2:\n",
    "        turtle.seth(angle)\n",
    "        turtle.fd(5)\n",
    "    elif num ==3:\n",
    "        turtle.seth(angle)\n",
    "        turtle.fd(5)\n",
    "    elif num ==4:\n",
    "        turtle.seth(angle)\n",
    "        turtle.fd(5)\n",
    "    elif num ==5:\n",
    "        turtle.seth(angle)\n",
    "        turtle.fd(5)\n",
    "    elif num ==6:\n",
    "        turtle.seth(angle)\n",
    "        turtle.fd(5)\n",
    "    elif num ==7:\n",
    "        turtle.seth(angle)\n",
    "        turtle.fd(5)\n",
    "    elif num ==8:\n",
    "        turtle.seth(angle)\n",
    "        turtle.fd(5)\n",
    "    elif num ==9:\n",
    "        turtle.seth(angle)\n",
    "        turtle.fd(5)\n",
    "    elif num ==10:\n",
    "        turtle.seth(angle)\n",
    "        turtle.fd(5)\n",
    "    elif num ==11:\n",
    "        turtle.seth(angle)\n",
    "        turtle.fd(5)\n",
    "    elif num ==12:\n",
    "        turtle.seth(angle)\n",
    "        turtle.fd(5)\n",
    "    elif num ==13:\n",
    "        turtle.seth(angle)\n",
    "        turtle.fd(5)\n",
    "    elif num ==14:\n",
    "        turtle.seth(angle)\n",
    "        turtle.fd(5)\n",
    "    else:\n",
    "        turtle.seth(angle)\n",
    "        turtle.fd(5)\n",
    "    step = step -1"
   ]
  },
  {
   "cell_type": "code",
   "execution_count": null,
   "metadata": {
    "ExecuteTime": {
     "start_time": "2019-05-11T05:29:06.041Z"
    }
   },
   "outputs": [],
   "source": [
    "import numpy\n",
    "numpy.random.rand(3,3) - 0.5"
   ]
  },
  {
   "cell_type": "code",
   "execution_count": null,
   "metadata": {
    "ExecuteTime": {
     "start_time": "2019-05-11T05:29:06.046Z"
    }
   },
   "outputs": [],
   "source": [
    "class caesar:\n",
    "    def __init__(self,input1):\n",
    "        self.input1 = input1\n",
    "        self.dict1 = [[15,3,0],[3,0],[18,3,0,9],[20, 5, 6, 0, 5],[4, 0],[16, 18, 0, 0, 2, 16, 16]]\n",
    "        #code dict to ensure the original word\n",
    "        self.dict2 = [101,102,101,99,107,99]\n",
    "        #code dict to ensure the number of ascii code\n",
    "        print(self.input1)#test code\n",
    "    def encode(self,word):\n",
    "        self.word = word\n",
    "        self.num = []\n",
    "        self.code = []\n",
    "        self.lenth = len(self.word)\n",
    "        for i in range(self.lenth):\n",
    "            self.num.append(ord(self.word[i]))\n",
    "        minum = sorted(self.num)\n",
    "        for j in self.num:\n",
    "            self.code.append(j-minum[0])\n",
    "        self.dict1.append(self.code)# append the code to dict\n",
    "        self.dict2.append(minum[0])#append the code to dict\n",
    "        print(self.code)\n",
    "        print(minum[0])\n",
    "    def turnw(self,word,change):\n",
    "        self.word = word\n",
    "        self.change = change\n",
    "        self.turned = []\n",
    "        self.lenth = len(self.word)\n",
    "        for i in range(self.lenth):\n",
    "            if (ord(self.word[i]) + change <= 90) & (ord(self.word[i]) + change >= 65) & (ord(self.word[i]) >= 65) & (ord(self.word[i]) <= 90):\n",
    "                self.turned.append(chr(ord(self.word[i])+change))\n",
    "            elif (ord(self.word[i]) + change <= 122) & (ord(self.word[i]) + change >= 97) & (ord(self.word[i]) >= 97) & (ord(self.word[i]) <= 122):\n",
    "                self.turned.append(chr(ord(self.word[i])+change))\n",
    "            elif (ord(self.word[i]) + change < 65) & (ord(self.word[i]) >= 65) & (ord(self.word[i]) <= 90):\n",
    "                self.turned.append(chr(ord(self.word[i])+change + 26))\n",
    "            elif (ord(self.word[i]) + change > 90) & (ord(self.word[i]) >= 65) & (ord(self.word[i]) <= 90):\n",
    "                self.turned.append(chr(ord(self.word[i])+change - 26))\n",
    "            elif (ord(self.word[i]) + change < 97) & (ord(self.word[i]) >= 97) & (ord(self.word[i]) <= 122):\n",
    "                self.turned.append(chr(ord(self.word[i])+change + 26))\n",
    "            elif (ord(self.word[i]) + change > 122) & (ord(self.word[i]) >= 97) & (ord(self.word[i]) <= 122):\n",
    "                self.turned.append(chr(ord(self.word[i])+change - 26))\n",
    "        print(''.join(self.turned))\n",
    "    def turn(self,input1,change):\n",
    "        self.input1 = input1\n",
    "        self.change = change\n",
    "        self.turned = []\n",
    "        self.lenth = len(self.input1)\n",
    "        for i in range(self.lenth):\n",
    "            if (self.input1[i] ==  ' ') | (self.input1[i] ==  ',') | (self.input1[i] ==  '!') | (self.input1[i] ==  '.'):\n",
    "                self.turned.append(self.input1[i])\n",
    "            elif (ord(self.input1[i]) + change <= 90) & (ord(self.input1[i]) + change >= 65) & (ord(self.input1[i]) >= 65) & (ord(self.input1[i]) <= 90):\n",
    "                self.turned.append(chr(ord(self.input1[i])+change))\n",
    "            elif (ord(self.input1[i]) + change <= 122) & (ord(self.input1[i]) + change >= 97) & (ord(self.input1[i]) >= 97) & (ord(self.input1[i]) <= 122):\n",
    "                self.turned.append(chr(ord(self.input1[i])+change))\n",
    "            elif (ord(self.input1[i]) + change < 65) & (ord(self.input1[i]) >= 65) & (ord(self.input1[i]) <= 90):\n",
    "                self.turned.append(chr(ord(self.input1[i])+change + 26))\n",
    "            elif (ord(self.input1[i]) + change > 90) & (ord(self.input1[i]) >= 65) & (ord(self.input1[i]) <= 90):\n",
    "                self.turned.append(chr(ord(self.input1[i])+change - 26))\n",
    "            elif (ord(self.input1[i]) + change < 97) & (ord(self.input1[i]) >= 97) & (ord(self.input1[i]) <= 122):\n",
    "                self.turned.append(chr(ord(self.input1[i])+change + 26))\n",
    "            elif (ord(self.input1[i]) + change > 122) & (ord(self.input1[i]) >= 97) & (ord(self.input1[i]) <= 122):\n",
    "                self.turned.append(chr(ord(self.input1[i])+change - 26))\n",
    "        print(''.join(self.turned))\n",
    "    def auto(self,input1):\n",
    "        self.num = []\n",
    "        self.output = []\n",
    "        self.input1 = input1\n",
    "        self.buffer = str.split(self.input1) # splited word\n",
    "        self.lenth1 = len(self.buffer)# lenth1 is the number of word\n",
    "        for i in range(self.lenth1):\n",
    "            self.lenth = len(self.buffer[i])# lenth is the lenth of word\n",
    "            for j in range(self.lenth):\n",
    "                self.num.append(ord(self.buffer[i][j]))\n",
    "                # self.num is the original ascii number of a word\n",
    "            minum = sorted(self.num)# minum is a rank of original ascii number\n",
    "            self.code = []# self.code is a number to ensure a word,clear the self.code\n",
    "            for k in self.num:\n",
    "                self.code.append(k-minum[0])\n",
    "            self.lenth2 = len(self.dict1)\n",
    "            for o in range(self.lenth2):\n",
    "                if self.code == self.dict1[o]:\n",
    "                    self.change = self.num[0] - self.code[0] - self.dict2[o]# self.change is the key\n",
    "                    self.num = []#clear the self.num\n",
    "        for l in range(self.lenth1):\n",
    "            self.num = []#clear the self.num\n",
    "            self.lenth = len(self.buffer[l])\n",
    "            for m in range(self.lenth):\n",
    "                self.num.append(ord(self.buffer[l][m]))#rebuild the self.num\n",
    "            for n in range(self.lenth):\n",
    "                if (self.num[n] == ord(' ')) | (self.num[n] == ord(',')) | (self.num[n] == ord('.')) | (self.num[n] == ord('!')):\n",
    "                    self.output.append(chr(self.num[n]))\n",
    "                elif (self.num[n] - self.change <= 90) & (self.num[n] - self.change >= 65) & (self.num[n] >= 65) & (self.num[n] <= 90):\n",
    "                    self.output.append(chr(self.num[n] - self.change))\n",
    "                elif (self.num[n] - self.change <= 122) & (self.num[n] - self.change >= 97) & (self.num[n] >= 97) & (self.num[n] <= 122):\n",
    "                    self.output.append(chr(self.num[n] - self.change))\n",
    "                elif (self.num[n] - self.change < 65) & (self.num[n] >= 65) & (self.num[n] <= 90):\n",
    "                    self.output.append(chr(self.num[n] - self.change + 26))\n",
    "                elif (self.num[n] - self.change > 90) & (self.num[n] >= 65) & (self.num[n] <= 90):\n",
    "                    self.output.append(chr(self.num[n] - self.change - 26))\n",
    "                elif (self.num[n] - self.change < 97) & (self.num[n] >= 97) & (self.num[n] <= 122):\n",
    "                    self.output.append(chr(self.num[n] - self.change + 26))\n",
    "                elif (self.num[n] - self.change > 122) & (self.num[n] >= 97) & (self.num[n] <= 122):\n",
    "                    self.output.append(chr(self.num[n] - self.change - 26))\n",
    "                    #self.output.append(chr(self.num[n] - self.change))\n",
    "            self.output.append(' ')\n",
    "        print(''.join(self.output))\n",
    "n = caesar('Begin!')\n",
    "n.turn('zkhq brx vhh wklv,brx duh vxffhvv!',-3)\n",
    "n.turnw('zkhq',-3)\n",
    "n.encode('apple')#append 'success' code to dict\n",
    "n.auto('yjgp')\n",
    "n.auto('dq dssoh') #bug\n",
    "n.auto('zkhq brx vhh wklv,brx duh vxffhvv!')"
   ]
  },
  {
   "cell_type": "code",
   "execution_count": null,
   "metadata": {
    "ExecuteTime": {
     "start_time": "2019-05-11T05:29:06.050Z"
    }
   },
   "outputs": [],
   "source": [
    "print(ord('A'))\n",
    "print(ord('a'))\n",
    "print(ord('Z'))\n",
    "print(ord('z'))\n",
    "print(ord('f'))"
   ]
  },
  {
   "cell_type": "code",
   "execution_count": null,
   "metadata": {
    "ExecuteTime": {
     "start_time": "2019-05-11T05:29:06.055Z"
    }
   },
   "outputs": [],
   "source": [
    "a = 'the'\n",
    "num = []\n",
    "output = []\n",
    "l = len(a)\n",
    "for i in range(l):\n",
    "    num.append(ord(a[i]))\n",
    "mi = sorted(num)\n",
    "for j in num:\n",
    "    output.append(j-mi[0])\n",
    "print(output)"
   ]
  },
  {
   "cell_type": "code",
   "execution_count": null,
   "metadata": {
    "ExecuteTime": {
     "start_time": "2019-05-11T05:29:06.058Z"
    }
   },
   "outputs": [],
   "source": [
    "(ord(self.word[i]) + change <= 90)&(ord(self.word[i]) + change >= 65) | (ord(self.word[i]) + change <= 122)&(ord(self.word[i]) + change >= 97)\n",
    "(ord(self.word[i]) + change) >= 65) & (ord(self.word[i]) + change) <= 90) | (((ord(self.word[i]) + change) >= 97) & (ord(self.word[i]) + change) <= 122)"
   ]
  },
  {
   "cell_type": "code",
   "execution_count": null,
   "metadata": {
    "ExecuteTime": {
     "start_time": "2019-05-11T05:29:06.060Z"
    }
   },
   "outputs": [],
   "source": [
    "import pygame\n",
    "from pygame.locals import *\n",
    "white = 255,255,255\n",
    "blue = 0,0,200\n",
    "pygame.init()\n",
    "screen = pygame.display.set_mode((600,500))\n",
    "pygame.display.set_caption(\"Drawing Circles\")\n",
    "myfont = pygame.font.Font(None,60)\n",
    "textImage = myfont.render(\"Hello Pygame\",True,white)\n",
    "while True:\n",
    "    for event in pygame.event.get():\n",
    "        if event.type in (QUIT, KEYDOWN):\n",
    "            pygame.quit()\n",
    "            \n",
    "    screen.fill(blue)\n",
    "\n",
    "    #draw a circle\n",
    "    color = 255,255,0\n",
    "    position = 300,250\n",
    "    radius = 100\n",
    "    width = 10\n",
    "    pygame.draw.circle(screen,color,position,radius,width)\n",
    "    \n",
    "    pygame.display.update()"
   ]
  },
  {
   "cell_type": "code",
   "execution_count": null,
   "metadata": {
    "ExecuteTime": {
     "start_time": "2019-05-11T05:29:06.062Z"
    }
   },
   "outputs": [],
   "source": [
    "import math\n",
    "import pygame\n",
    "from pygame.locals import *\n",
    "pygame.init()\n",
    "screen = pygame.display.set_mode((600,500))\n",
    "pygame.display.set_caption(\"The Pie Game - Press 1,2,3,4\")\n",
    "myfont = pygame.font.Font(None,60)\n",
    "\n",
    "color = 200,80,60\n",
    "width = 4\n",
    "x = 300\n",
    "y = 250\n",
    "radius = 200\n",
    "position = x-radius,y-radius,radius*2\n",
    "\n",
    "piece1 = False\n",
    "piece2 = False\n",
    "piece3 = False\n",
    "piece4 = False\n",
    "while True:\n",
    "    for event in pygame.event.get():\n",
    "        if event.type == QUIT:\n",
    "            pygame.quit()\n",
    "        elif event.key == KEYUP:\n",
    "            if event.key == pygame.K_ESCAPE:\n",
    "                pygame.quit()\n",
    "        elif event.key == pygame.K_1:\n",
    "            piece1 = True\n",
    "        elif event.key == pygame.K_2:\n",
    "            piece2 = True\n",
    "        elif event.key == pygame.K_3:\n",
    "            piece3 = True\n",
    "        elif event.key == pygame.K_4:\n",
    "            piece4 = True\n",
    "#clear the screen\n",
    "screen.fill((0,0,200))\n",
    "\n",
    "#draw the four numbers\n",
    "textImg1 = myfont.render(\"1\",True,color)\n",
    "screen.blit(textImg1,(x+radius/2-20,y+radius/2))\n",
    "textImg1 = myfont.render(\"2\",True,color)\n",
    "screen.blit(textImg1,(x+radius/2,y+radius/2))\n",
    "textImg1 = myfont.render(\"3\",True,color)\n",
    "screen.blit(textImg1,(x+radius/2,y+radius/2-20))\n",
    "textImg1 = myfont.render(\"4\",True,color)\n",
    "screen.blit(textImg1,(x+radius/2-20,y+radius/2-20))\n",
    "\n",
    "#should the pieces be draw?\n",
    "if piece1:\n",
    "    start_angle = math.radians(0)\n",
    "    end_angle = math.radians(90)\n",
    "    pygame.draw.arc(screen,color,position,start_angle,end_angle,end_angle,width)\n",
    "    pygame.draw.line(screen,color,(x,y),(x,y-radius),width)\n",
    "    pygame.draw.line(screen,color,(x,y),(x-radius,y),width)\n",
    "if piece2:\n",
    "    start_angle = math.radians(90)\n",
    "    end_angle = math.radians(180)\n",
    "    pygame.draw.arc(screen,color,position,start_angle,end_angle,end_angle,width)\n",
    "    pygame.draw.line(screen,color,(x,y),(x,y-radius),width)\n",
    "    pygame.draw.line(screen,color,(x,y),(x-radius,y),width)\n",
    "if piece3:\n",
    "    start_angle = math.radians(180)\n",
    "    end_angle = math.radians(270)\n",
    "    pygame.draw.arc(screen,color,position,start_angle,end_angle,end_angle,width)\n",
    "    pygame.draw.line(screen,color,(x,y),(x,y-radius),width)\n",
    "    pygame.draw.line(screen,color,(x,y),(x-radius,y),width)\n",
    "if piece4:\n",
    "    start_angle = math.radians(270)\n",
    "    end_angle = math.radians(360)\n",
    "    pygame.draw.arc(screen,color,position,start_angle,end_angle,end_angle,width)\n",
    "    pygame.draw.line(screen,color,(x,y),(x,y-radius),width)\n",
    "    pygame.draw.line(screen,color,(x,y),(x-radius,y),width)\n",
    "\n",
    "#is the pie finished?\n",
    "if piece1 and piece2 and piece3 and piece4:\n",
    "    color = 0.255,0\n",
    "\n",
    "pygame.display.update()"
   ]
  },
  {
   "cell_type": "code",
   "execution_count": null,
   "metadata": {
    "ExecuteTime": {
     "start_time": "2019-05-11T05:29:06.065Z"
    }
   },
   "outputs": [],
   "source": [
    "import sys, argparse\n",
    "import numpy as np\n",
    "import matplotlib.pyplot as plt\n",
    "import matplotlib.animation as animation\n",
    "\n",
    "ON = 255\n",
    "OFF = 0\n",
    "vals = [ON, OFF]\n",
    "\n",
    "def randomGrid(N):\n",
    "    \"\"\"returns a grid of NxN random values\"\"\"\n",
    "    return np.random.choice(vals, N*N, p=[0.2, 0.8]).reshape(N, N)\n",
    "def addGlider(i, j, grid):\n",
    "    \"\"\"adds a glider with top-left cell at (i, j)\"\"\"\n",
    "    glider = np.array([[0, 0, 255],\n",
    "                        [255, 0, 255],\n",
    "                        [0, 255, 255]])\n",
    "    grid[i:i+3, j:j+3] = glider\n",
    "def update(frameNum, img, grid, N):\n",
    "    # copy grid since we require 8 neighbors for calculation\n",
    "    # and we go line by line\n",
    "    newGrid = grid.copy()\n",
    "    for i in range(N):\n",
    "        for j in range(N):\n",
    "        # compute 8-neghbor sum using toroidal boundary conditions\n",
    "        # x and y wrap around so that the simulation\n",
    "        # takes place on a toroidal surface\n",
    "            total = int((grid[i, (j-1)%N] + grid[i, (j+1)%N] +\n",
    "                        grid[(i-1)%N, j] + grid[(i+1)%N, j] +\n",
    "                        grid[(i-1)%N, (j-1)%N] + grid[(i-1)%N, (j+1)%N] +\n",
    "                        grid[(i+1)%N, (j-1)%N] + grid[(i+1)%N, (j+1)%N])/255)\n",
    "            # apply Conway's rules\n",
    "            if grid[i, j] == ON:\n",
    "                if (total < 2) or (total > 3):\n",
    "                    newGrid[i, j] = OFF\n",
    "            else:\n",
    "                if total == 3:\n",
    "                    newGrid[i, j] = ON\n",
    "    # update data\n",
    "    img.set_data(newGrid)\n",
    "    grid[:] = newGrid[:]\n",
    "    return img,\n",
    "\n",
    "# main() function\n",
    "def main():\n",
    "    # command line arguments are in sys.argv[1], sys.argv[2], ...\n",
    "    # sys.argv[0] is the script name and can be ignored\n",
    "    # parse arguments\n",
    "    parser = argparse.ArgumentParser(description=\"Runs Conway's Game of Life simulation.\")\n",
    "    # add arguments\n",
    "    parser.add_argument('--grid-size', dest='N', required=False)\n",
    "    parser.add_argument('--mov-file', dest='movfile', required=False)\n",
    "    parser.add_argument('--interval', dest='interval', required=False)\n",
    "    parser.add_argument('--glider', action='store_true', required=False)\n",
    "    parser.add_argument('--gosper', action='store_true', required=False)\n",
    "    args = parser.parse_args()\n",
    "                                     \n",
    "    # set grid size\n",
    "    N = 100\n",
    "    if args.N and int(args.N) > 8:\n",
    "        N = int(args.N)\n",
    "                                     \n",
    "    # set animation update interval\n",
    "    updateInterval = 50\n",
    "    if args.interval:\n",
    "        updateInterval = int(args.interval)\n",
    "    \n",
    "    # declare grid                                    \n",
    "    grid = np.array([])\n",
    "    # check if \"glider\" demo flag is specified\n",
    "    if args.glider:\n",
    "        grid = np.zeros(N*N).reshape(N, N)\n",
    "        addGlider(1, 1, grid)\n",
    "    else:\n",
    "        # populate grid with random on/off - more off than on\n",
    "        grid = randomGrid(N)\n",
    "                                     \n",
    "    # set up the animation\n",
    "    fig, ax = plt.subplots()\n",
    "    img = ax.imshow(grid, interpolation='nearest')\n",
    "    ani = animation.FuncAnimation(fig, update, fargs=(img, grid, N, ),\n",
    "                                    frames=10,\n",
    "                                    interval=updateInterval,\n",
    "                                    save_count=50)\n",
    "    # number of frames?\n",
    "    # set the output file\n",
    "    if args.movfile:\n",
    "        ani.save(args.movfile, fps=30, extra_args=['-vcodec', 'libx264'])\n",
    "    plt.show()\n",
    "# call main\n",
    "if __name__ == '__main__':\n",
    "    main()"
   ]
  },
  {
   "cell_type": "code",
   "execution_count": null,
   "metadata": {
    "ExecuteTime": {
     "start_time": "2019-05-11T05:29:06.072Z"
    }
   },
   "outputs": [],
   "source": [
    "import numpy as np\n",
    "import matplotlib.pyplot as pl\n",
    "import random as rd\n",
    "import curses\n",
    "%matplotlib inline\n",
    "class game:\n",
    "    def __init__(self):\n",
    "        self.canvas = np.zeros([4,4])\n",
    "        self.temp = []\n",
    "        self.tempnum = 0\n",
    "        self.rannum = 0\n",
    "    def add(self):\n",
    "        for x in range(4):\n",
    "            for y in range(4):\n",
    "                if self.canvas[x,y] == 0:\n",
    "                    self.temp.append([x,y])\n",
    "        self.tempnum = len(self.temp)\n",
    "        self.rannum = rd.randint(0,self.tempnum-1)\n",
    "        self.canvas[self.temp[self.rannum][0],self.temp[self.rannum][1]] = 2\n",
    "    def show(self):\n",
    "        pl.imshow(self.canvas,interpolation=\"nearest\")\n",
    "x = game()\n",
    "x.add()\n",
    "x.show()"
   ]
  },
  {
   "cell_type": "code",
   "execution_count": null,
   "metadata": {
    "ExecuteTime": {
     "start_time": "2019-05-11T05:29:06.075Z"
    }
   },
   "outputs": [],
   "source": [
    "import curses\n",
    "stdscr = curses.initscr()\n",
    "while True:\n",
    "    c = stdscr.getch()\n",
    "    if c == ord('w'):\n",
    "        print(\"ok\")"
   ]
  },
  {
   "cell_type": "code",
   "execution_count": 1,
   "metadata": {
    "ExecuteTime": {
     "end_time": "2019-05-11T05:30:44.429785Z",
     "start_time": "2019-05-11T05:30:44.388784Z"
    }
   },
   "outputs": [
    {
     "ename": "ModuleNotFoundError",
     "evalue": "No module named 'cv2'",
     "output_type": "error",
     "traceback": [
      "\u001b[0;31m---------------------------------------------------------------------------\u001b[0m",
      "\u001b[0;31mModuleNotFoundError\u001b[0m                       Traceback (most recent call last)",
      "\u001b[0;32m<ipython-input-1-b3d759d22b26>\u001b[0m in \u001b[0;36m<module>\u001b[0;34m\u001b[0m\n\u001b[0;32m----> 1\u001b[0;31m \u001b[0;32mimport\u001b[0m \u001b[0mcv2\u001b[0m\u001b[0;34m\u001b[0m\u001b[0;34m\u001b[0m\u001b[0m\n\u001b[0m\u001b[1;32m      2\u001b[0m \u001b[0;32mimport\u001b[0m \u001b[0mnumpy\u001b[0m \u001b[0;32mas\u001b[0m \u001b[0mnp\u001b[0m\u001b[0;34m\u001b[0m\u001b[0;34m\u001b[0m\u001b[0m\n\u001b[1;32m      3\u001b[0m \u001b[0mimg\u001b[0m \u001b[0;34m=\u001b[0m \u001b[0mnp\u001b[0m\u001b[0;34m.\u001b[0m\u001b[0mzeros\u001b[0m\u001b[0;34m(\u001b[0m\u001b[0;36m100\u001b[0m\u001b[0;34m,\u001b[0m\u001b[0;36m100\u001b[0m\u001b[0;34m,\u001b[0m\u001b[0;36m3\u001b[0m\u001b[0;34m)\u001b[0m\u001b[0;34m\u001b[0m\u001b[0;34m\u001b[0m\u001b[0m\n",
      "\u001b[0;31mModuleNotFoundError\u001b[0m: No module named 'cv2'"
     ]
    }
   ],
   "source": [
    "import cv2\n",
    "import numpy as np\n",
    "img = np.zeros(100,100,3)"
   ]
  }
 ],
 "metadata": {
  "history": [],
  "kernelspec": {
   "display_name": "Python 3",
   "language": "python",
   "name": "python3"
  },
  "language_info": {
   "codemirror_mode": {
    "name": "ipython",
    "version": 3
   },
   "file_extension": ".py",
   "mimetype": "text/x-python",
   "name": "python",
   "nbconvert_exporter": "python",
   "pygments_lexer": "ipython3",
   "version": "3.8.3"
  },
  "uuid": "7a2bad8b-376f-4246-aec6-36e652a603e4"
 },
 "nbformat": 4,
 "nbformat_minor": 4
}
